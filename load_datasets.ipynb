{
 "cells": [
  {
   "cell_type": "code",
   "execution_count": 1,
   "id": "5e15b411",
   "metadata": {},
   "outputs": [],
   "source": [
    "import numpy as np\n",
    "import pandas as pd\n",
    "\n",
    "import matplotlib.pyplot as plt\n",
    "\n",
    "from src.load_datasets import (\n",
    "    load_air_polution_data,\n",
    "    load_air_quality_data,\n",
    "    load_climate_change_data,\n",
    ")"
   ]
  },
  {
   "cell_type": "code",
   "execution_count": 2,
   "id": "d4bf1c53",
   "metadata": {},
   "outputs": [],
   "source": [
    "np.random.seed(80)\n",
    "plt.style.use(\"seaborn-v0_8-darkgrid\")"
   ]
  },
  {
   "cell_type": "code",
   "execution_count": 15,
   "id": "8754d214",
   "metadata": {},
   "outputs": [
    {
     "name": "stdout",
     "output_type": "stream",
     "text": [
      "dataframe shape (43824, 9)\n",
      "<class 'pandas.core.frame.DataFrame'>\n",
      "RangeIndex: 43824 entries, 0 to 43823\n",
      "Data columns (total 9 columns):\n",
      " #   Column  Non-Null Count  Dtype         \n",
      "---  ------  --------------  -----         \n",
      " 0   date    43824 non-null  datetime64[ns]\n",
      " 1   pm2.5   41757 non-null  float64       \n",
      " 2   DEWP    43824 non-null  int64         \n",
      " 3   TEMP    43824 non-null  float64       \n",
      " 4   PRES    43824 non-null  float64       \n",
      " 5   cbwd    43824 non-null  object        \n",
      " 6   Iws     43824 non-null  float64       \n",
      " 7   Is      43824 non-null  int64         \n",
      " 8   Ir      43824 non-null  int64         \n",
      "dtypes: datetime64[ns](1), float64(4), int64(3), object(1)\n",
      "memory usage: 3.0+ MB\n",
      "None\n"
     ]
    },
    {
     "data": {
      "text/html": [
       "<div>\n",
       "<style scoped>\n",
       "    .dataframe tbody tr th:only-of-type {\n",
       "        vertical-align: middle;\n",
       "    }\n",
       "\n",
       "    .dataframe tbody tr th {\n",
       "        vertical-align: top;\n",
       "    }\n",
       "\n",
       "    .dataframe thead th {\n",
       "        text-align: right;\n",
       "    }\n",
       "</style>\n",
       "<table border=\"1\" class=\"dataframe\">\n",
       "  <thead>\n",
       "    <tr style=\"text-align: right;\">\n",
       "      <th></th>\n",
       "      <th>date</th>\n",
       "      <th>pm2.5</th>\n",
       "      <th>DEWP</th>\n",
       "      <th>TEMP</th>\n",
       "      <th>PRES</th>\n",
       "      <th>cbwd</th>\n",
       "      <th>Iws</th>\n",
       "      <th>Is</th>\n",
       "      <th>Ir</th>\n",
       "    </tr>\n",
       "  </thead>\n",
       "  <tbody>\n",
       "    <tr>\n",
       "      <th>0</th>\n",
       "      <td>2010-01-01 00:00:00</td>\n",
       "      <td>NaN</td>\n",
       "      <td>-21</td>\n",
       "      <td>-11.0</td>\n",
       "      <td>1021.0</td>\n",
       "      <td>NW</td>\n",
       "      <td>1.79</td>\n",
       "      <td>0</td>\n",
       "      <td>0</td>\n",
       "    </tr>\n",
       "    <tr>\n",
       "      <th>1</th>\n",
       "      <td>2010-01-01 01:00:00</td>\n",
       "      <td>NaN</td>\n",
       "      <td>-21</td>\n",
       "      <td>-12.0</td>\n",
       "      <td>1020.0</td>\n",
       "      <td>NW</td>\n",
       "      <td>4.92</td>\n",
       "      <td>0</td>\n",
       "      <td>0</td>\n",
       "    </tr>\n",
       "    <tr>\n",
       "      <th>2</th>\n",
       "      <td>2010-01-01 02:00:00</td>\n",
       "      <td>NaN</td>\n",
       "      <td>-21</td>\n",
       "      <td>-11.0</td>\n",
       "      <td>1019.0</td>\n",
       "      <td>NW</td>\n",
       "      <td>6.71</td>\n",
       "      <td>0</td>\n",
       "      <td>0</td>\n",
       "    </tr>\n",
       "    <tr>\n",
       "      <th>3</th>\n",
       "      <td>2010-01-01 03:00:00</td>\n",
       "      <td>NaN</td>\n",
       "      <td>-21</td>\n",
       "      <td>-14.0</td>\n",
       "      <td>1019.0</td>\n",
       "      <td>NW</td>\n",
       "      <td>9.84</td>\n",
       "      <td>0</td>\n",
       "      <td>0</td>\n",
       "    </tr>\n",
       "    <tr>\n",
       "      <th>4</th>\n",
       "      <td>2010-01-01 04:00:00</td>\n",
       "      <td>NaN</td>\n",
       "      <td>-20</td>\n",
       "      <td>-12.0</td>\n",
       "      <td>1018.0</td>\n",
       "      <td>NW</td>\n",
       "      <td>12.97</td>\n",
       "      <td>0</td>\n",
       "      <td>0</td>\n",
       "    </tr>\n",
       "  </tbody>\n",
       "</table>\n",
       "</div>"
      ],
      "text/plain": [
       "                 date  pm2.5  DEWP  TEMP    PRES cbwd    Iws  Is  Ir\n",
       "0 2010-01-01 00:00:00    NaN   -21 -11.0  1021.0   NW   1.79   0   0\n",
       "1 2010-01-01 01:00:00    NaN   -21 -12.0  1020.0   NW   4.92   0   0\n",
       "2 2010-01-01 02:00:00    NaN   -21 -11.0  1019.0   NW   6.71   0   0\n",
       "3 2010-01-01 03:00:00    NaN   -21 -14.0  1019.0   NW   9.84   0   0\n",
       "4 2010-01-01 04:00:00    NaN   -20 -12.0  1018.0   NW  12.97   0   0"
      ]
     },
     "execution_count": 15,
     "metadata": {},
     "output_type": "execute_result"
    }
   ],
   "source": [
    "dataframe = load_air_polution_data()\n",
    "print(f\"dataframe shape {dataframe.shape}\")\n",
    "\n",
    "dataframe[\"date\"] = pd.to_datetime(dataframe[\"date\"])\n",
    "\n",
    "print(dataframe.info())\n",
    "dataframe.head()"
   ]
  },
  {
   "cell_type": "code",
   "execution_count": 10,
   "id": "e8187a41",
   "metadata": {},
   "outputs": [
    {
     "data": {
      "text/plain": [
       "date        0\n",
       "pm2.5    2067\n",
       "DEWP        0\n",
       "TEMP        0\n",
       "PRES        0\n",
       "cbwd        0\n",
       "Iws         0\n",
       "Is          0\n",
       "Ir          0\n",
       "dtype: int64"
      ]
     },
     "execution_count": 10,
     "metadata": {},
     "output_type": "execute_result"
    }
   ],
   "source": [
    "dataframe.isna().sum()"
   ]
  },
  {
   "cell_type": "code",
   "execution_count": 11,
   "id": "c425ca80",
   "metadata": {},
   "outputs": [
    {
     "name": "stdout",
     "output_type": "stream",
     "text": [
      "dataframe shape (41757, 9)\n"
     ]
    },
    {
     "data": {
      "text/html": [
       "<div>\n",
       "<style scoped>\n",
       "    .dataframe tbody tr th:only-of-type {\n",
       "        vertical-align: middle;\n",
       "    }\n",
       "\n",
       "    .dataframe tbody tr th {\n",
       "        vertical-align: top;\n",
       "    }\n",
       "\n",
       "    .dataframe thead th {\n",
       "        text-align: right;\n",
       "    }\n",
       "</style>\n",
       "<table border=\"1\" class=\"dataframe\">\n",
       "  <thead>\n",
       "    <tr style=\"text-align: right;\">\n",
       "      <th></th>\n",
       "      <th>date</th>\n",
       "      <th>pm2.5</th>\n",
       "      <th>DEWP</th>\n",
       "      <th>TEMP</th>\n",
       "      <th>PRES</th>\n",
       "      <th>cbwd</th>\n",
       "      <th>Iws</th>\n",
       "      <th>Is</th>\n",
       "      <th>Ir</th>\n",
       "    </tr>\n",
       "  </thead>\n",
       "  <tbody>\n",
       "    <tr>\n",
       "      <th>24</th>\n",
       "      <td>2010-1-2 0:00:00</td>\n",
       "      <td>129.0</td>\n",
       "      <td>-16</td>\n",
       "      <td>-4.0</td>\n",
       "      <td>1020.0</td>\n",
       "      <td>SE</td>\n",
       "      <td>1.79</td>\n",
       "      <td>0</td>\n",
       "      <td>0</td>\n",
       "    </tr>\n",
       "    <tr>\n",
       "      <th>25</th>\n",
       "      <td>2010-1-2 1:00:00</td>\n",
       "      <td>148.0</td>\n",
       "      <td>-15</td>\n",
       "      <td>-4.0</td>\n",
       "      <td>1020.0</td>\n",
       "      <td>SE</td>\n",
       "      <td>2.68</td>\n",
       "      <td>0</td>\n",
       "      <td>0</td>\n",
       "    </tr>\n",
       "    <tr>\n",
       "      <th>26</th>\n",
       "      <td>2010-1-2 2:00:00</td>\n",
       "      <td>159.0</td>\n",
       "      <td>-11</td>\n",
       "      <td>-5.0</td>\n",
       "      <td>1021.0</td>\n",
       "      <td>SE</td>\n",
       "      <td>3.57</td>\n",
       "      <td>0</td>\n",
       "      <td>0</td>\n",
       "    </tr>\n",
       "    <tr>\n",
       "      <th>27</th>\n",
       "      <td>2010-1-2 3:00:00</td>\n",
       "      <td>181.0</td>\n",
       "      <td>-7</td>\n",
       "      <td>-5.0</td>\n",
       "      <td>1022.0</td>\n",
       "      <td>SE</td>\n",
       "      <td>5.36</td>\n",
       "      <td>1</td>\n",
       "      <td>0</td>\n",
       "    </tr>\n",
       "    <tr>\n",
       "      <th>28</th>\n",
       "      <td>2010-1-2 4:00:00</td>\n",
       "      <td>138.0</td>\n",
       "      <td>-7</td>\n",
       "      <td>-5.0</td>\n",
       "      <td>1022.0</td>\n",
       "      <td>SE</td>\n",
       "      <td>6.25</td>\n",
       "      <td>2</td>\n",
       "      <td>0</td>\n",
       "    </tr>\n",
       "  </tbody>\n",
       "</table>\n",
       "</div>"
      ],
      "text/plain": [
       "                date  pm2.5  DEWP  TEMP    PRES cbwd   Iws  Is  Ir\n",
       "24  2010-1-2 0:00:00  129.0   -16  -4.0  1020.0   SE  1.79   0   0\n",
       "25  2010-1-2 1:00:00  148.0   -15  -4.0  1020.0   SE  2.68   0   0\n",
       "26  2010-1-2 2:00:00  159.0   -11  -5.0  1021.0   SE  3.57   0   0\n",
       "27  2010-1-2 3:00:00  181.0    -7  -5.0  1022.0   SE  5.36   1   0\n",
       "28  2010-1-2 4:00:00  138.0    -7  -5.0  1022.0   SE  6.25   2   0"
      ]
     },
     "execution_count": 11,
     "metadata": {},
     "output_type": "execute_result"
    }
   ],
   "source": [
    "dataframe.dropna(inplace=True)\n",
    "print(f\"dataframe shape {dataframe.shape}\")\n",
    "dataframe.head()"
   ]
  },
  {
   "cell_type": "code",
   "execution_count": 20,
   "id": "1461695e",
   "metadata": {},
   "outputs": [],
   "source": [
    "time_diff = dataframe[\"date\"] - dataframe[\"date\"].shift(1)"
   ]
  },
  {
   "cell_type": "code",
   "execution_count": 29,
   "id": "20537c65",
   "metadata": {},
   "outputs": [
    {
     "data": {
      "text/plain": [
       "Timedelta('0 days 01:00:00')"
      ]
     },
     "execution_count": 29,
     "metadata": {},
     "output_type": "execute_result"
    }
   ],
   "source": [
    "avg_diff = np.mean(time_diff)\n",
    "avg_diff"
   ]
  },
  {
   "cell_type": "code",
   "execution_count": 32,
   "id": "72e83313",
   "metadata": {},
   "outputs": [
    {
     "data": {
      "text/plain": [
       "0"
      ]
     },
     "execution_count": 32,
     "metadata": {},
     "output_type": "execute_result"
    }
   ],
   "source": [
    "avg_diff.microseconds"
   ]
  },
  {
   "cell_type": "code",
   "execution_count": 30,
   "id": "27c07269",
   "metadata": {},
   "outputs": [],
   "source": [
    "diff_ns = avg_diff.nanoseconds\n",
    "diff_us = diff_ns / 1000\n",
    "diff_ms = diff_us / 1000\n",
    "diff_sec = diff_ms / 1000\n",
    "diff_min = diff_sec / 60\n",
    "diff_hour = diff_min / 60\n",
    "diff_biz = (diff_hour / 24) / (7 / 5)  # assert no holidays\n",
    "diff_day = diff_hour / 24\n",
    "diff_wk = diff_day / 7\n",
    "diff_semi = diff_day / 15.21875\n",
    "diff_month = diff_day / 30.4375\n",
    "diff_qtr = diff_day / 91.3125\n",
    "diff_yr = diff_day / 365.25"
   ]
  },
  {
   "cell_type": "code",
   "execution_count": 31,
   "id": "27fa0e04",
   "metadata": {},
   "outputs": [
    {
     "data": {
      "text/plain": [
       "(0, 0.0, 0.0, 0.0, 0.0, 0.0, 0.0, 0.0, 0.0, 0.0, 0.0, 0.0, 0.0)"
      ]
     },
     "execution_count": 31,
     "metadata": {},
     "output_type": "execute_result"
    }
   ],
   "source": [
    "diff_ns, diff_us, diff_ms, diff_sec, diff_min, diff_hour, diff_biz, diff_day, diff_wk, diff_semi, diff_month, diff_qtr, diff_yr"
   ]
  },
  {
   "cell_type": "code",
   "execution_count": 26,
   "id": "38e7c61c",
   "metadata": {},
   "outputs": [],
   "source": [
    "eval = {\n",
    "    abs(1 - abs(k)): v\n",
    "    for k, v in {\n",
    "        diff_us: \"U\",\n",
    "        diff_ms: \"L\",\n",
    "        diff_sec: \"S\",\n",
    "        diff_min: \"T\",\n",
    "        diff_hour: \"H\",\n",
    "        diff_biz: \"B\",\n",
    "        diff_day: \"D\",\n",
    "        diff_wk: \"W\",\n",
    "        diff_semi: \"SMS\",\n",
    "        diff_month: \"MS\",\n",
    "        diff_qtr: \"QS\",\n",
    "        diff_yr: \"AS\",\n",
    "    }.items()\n",
    "}"
   ]
  },
  {
   "cell_type": "code",
   "execution_count": 27,
   "id": "ba9e0f55",
   "metadata": {},
   "outputs": [
    {
     "data": {
      "text/plain": [
       "{1.0: 'AS'}"
      ]
     },
     "execution_count": 27,
     "metadata": {},
     "output_type": "execute_result"
    }
   ],
   "source": [
    "eval"
   ]
  },
  {
   "cell_type": "code",
   "execution_count": null,
   "id": "f5efcf8a",
   "metadata": {},
   "outputs": [],
   "source": []
  }
 ],
 "metadata": {
  "kernelspec": {
   "display_name": "Python 3 (ipykernel)",
   "language": "python",
   "name": "python3"
  },
  "language_info": {
   "codemirror_mode": {
    "name": "ipython",
    "version": 3
   },
   "file_extension": ".py",
   "mimetype": "text/x-python",
   "name": "python",
   "nbconvert_exporter": "python",
   "pygments_lexer": "ipython3",
   "version": "3.11.3"
  }
 },
 "nbformat": 4,
 "nbformat_minor": 5
}
