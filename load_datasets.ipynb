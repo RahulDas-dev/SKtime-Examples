{
 "cells": [
  {
   "cell_type": "code",
   "execution_count": 1,
   "id": "5e15b411",
   "metadata": {},
   "outputs": [],
   "source": [
    "import numpy as np\n",
    "import pandas as pd\n",
    "\n",
    "import matplotlib.pyplot as plt"
   ]
  },
  {
   "cell_type": "code",
   "execution_count": 2,
   "id": "d4bf1c53",
   "metadata": {},
   "outputs": [],
   "source": [
    "np.random.seed(80)\n",
    "plt.style.use(\"seaborn-v0_8-darkgrid\")"
   ]
  },
  {
   "cell_type": "code",
   "execution_count": null,
   "id": "b472f64c",
   "metadata": {},
   "outputs": [],
   "source": [
    "from src.load_datasets import load_power_consumption\n",
    "\n",
    "dataframe = load_power_consumption()\n",
    "\n",
    "print(f\"dataframe shape {dataframe.shape}\")\n",
    "\n",
    "print(dataframe.info())\n",
    "\n",
    "dataframe.head()"
   ]
  },
  {
   "cell_type": "code",
   "execution_count": null,
   "id": "bb626025",
   "metadata": {},
   "outputs": [],
   "source": [
    "from src.load_datasets import load_climate_change_data\n",
    "\n",
    "dataframe = load_climate_change_data()\n",
    "\n",
    "print(f\"dataframe shape {dataframe.shape}\")\n",
    "\n",
    "print(dataframe.info())\n",
    "\n",
    "dataframe.head()"
   ]
  },
  {
   "cell_type": "code",
   "execution_count": null,
   "id": "dfb443ca",
   "metadata": {},
   "outputs": [],
   "source": [
    "from src.load_datasets import load_air_polution_data\n",
    "\n",
    "dataframe = load_air_polution_data()\n",
    "\n",
    "print(f\"dataframe shape {dataframe.shape}\")\n",
    "\n",
    "print(dataframe.info())\n",
    "\n",
    "dataframe.head()"
   ]
  },
  {
   "cell_type": "code",
   "execution_count": null,
   "id": "9d3b0b5b",
   "metadata": {},
   "outputs": [],
   "source": [
    "from src.load_datasets import load_air_quality_data\n",
    "\n",
    "dataframe = load_air_quality_data()\n",
    "\n",
    "print(f\"dataframe shape {dataframe.shape}\")\n",
    "\n",
    "print(dataframe.info())\n",
    "\n",
    "dataframe.head()"
   ]
  },
  {
   "cell_type": "code",
   "execution_count": null,
   "id": "8754d214",
   "metadata": {},
   "outputs": [],
   "source": [
    "from src.load_datasets import load_traffic_data\n",
    "\n",
    "dataframe = load_traffic_data()\n",
    "\n",
    "print(f\"dataframe shape {dataframe.shape}\")\n",
    "\n",
    "print(dataframe.info())\n",
    "\n",
    "dataframe.head()"
   ]
  },
  {
   "cell_type": "code",
   "execution_count": null,
   "id": "e8187a41",
   "metadata": {},
   "outputs": [],
   "source": [
    "dataframe.isna().sum()"
   ]
  },
  {
   "cell_type": "code",
   "execution_count": null,
   "id": "f5efcf8a",
   "metadata": {},
   "outputs": [],
   "source": []
  }
 ],
 "metadata": {
  "kernelspec": {
   "display_name": "Python 3 (ipykernel)",
   "language": "python",
   "name": "python3"
  },
  "language_info": {
   "codemirror_mode": {
    "name": "ipython",
    "version": 3
   },
   "file_extension": ".py",
   "mimetype": "text/x-python",
   "name": "python",
   "nbconvert_exporter": "python",
   "pygments_lexer": "ipython3",
   "version": "3.11.3"
  }
 },
 "nbformat": 4,
 "nbformat_minor": 5
}
