{
 "nbformat": 4,
 "nbformat_minor": 0,
 "metadata": {
  "colab": {
   "private_outputs": true,
   "provenance": [],
   "gpuType": "T4",
   "mount_file_id": "1Gv2d4LPQZ9txTHpXp5pGtjHIlWPLW-1I",
   "authorship_tag": "ABX9TyOfbPE/wiip2XwgJKperf9S",
   "include_colab_link": true
  },
  "kernelspec": {
   "name": "python3",
   "display_name": "Python 3"
  },
  "language_info": {
   "name": "python"
  }
 },
 "cells": [
  {
   "cell_type": "markdown",
   "metadata": {
    "id": "view-in-github",
    "colab_type": "text"
   },
   "source": [
    "<a href=\"https://colab.research.google.com/github/RahulDas-dev/SKtime-Examples/blob/master/Pycaret.ipynb\" target=\"_parent\"><img src=\"https://colab.research.google.com/assets/colab-badge.svg\" alt=\"Open In Colab\"/></a>"
   ]
  },
  {
   "cell_type": "code",
   "execution_count": null,
   "metadata": {
    "id": "ietKSaOfchIj"
   },
   "outputs": [],
   "source": [
    "!pip install pycaret -q\n",
    "!pip install statsforecast -q\n",
    "!pip install pycaret[models] -q"
   ]
  },
  {
   "cell_type": "markdown",
   "source": [
    "**Step 1** Initialized an instance called exp_auto using the `TSForecastingExperiment()` class.\n",
    "\n",
    "**Step 2** Set up the experiment using the provided arguments by executing `exp_auto.setup(**args)`.\n",
    "\n",
    "**Step 3** Compared different models using `exp_auto.compare_models(**args)` and obtained the best model.\n",
    "\n",
    "**Step 4** Further tuned the best model using `exp_auto.tune_model(best_model)` and obtained the best-tuned model.\n",
    "\n",
    "**Step 5** Finalized the best-tuned model using `exp_auto.finalize_model(best_tuned_model)`.\n",
    "\n",
    "**Step 6** Finally, I saved the `final_best_tuned_model` as `model_123` using `exp_auto.save_model(final_best_tuned_model, 'model_123')`.\n",
    "\n",
    "Now, for future forecasting, I encountered an issue at **Step 7**.\n",
    "\n",
    " In this step, I attempted to load the model using `exp_auto.load_model('model_123')`. However, in the future, I won't have the `exp_auto` instance available, and I will only have the saved model pickle file which is model_123.pkl. I am unsure how to resolve this issue."
   ],
   "metadata": {
    "id": "1aRsqu1y_hk-"
   }
  },
  {
   "cell_type": "code",
   "source": [
    "from typing import List, Union\n",
    "\n",
    "\n",
    "# show_versions()\n",
    "import numpy as np\n",
    "import pandas as pd\n",
    "\n",
    "from pycaret.time_series import TSForecastingExperiment\n",
    "from pycaret.datasets import get_data\n",
    "import statsforecast\n",
    "from pycaret import show_versions\n",
    "\n",
    "from sktime.utils import plotting"
   ],
   "metadata": {
    "id": "gcHleTupyjtv"
   },
   "execution_count": null,
   "outputs": []
  },
  {
   "cell_type": "code",
   "source": [
    "dataframe = pd.read_csv(\"./drive/MyDrive/datasets/Tetuan_City_power_consumption.csv\")\n",
    "\n",
    "# dataframe = get_data(\"airquality\", verbose=False)\n",
    "print(dataframe.shape)\n",
    "\n",
    "# dataframe['Date_Time'] = dataframe['Date']+dataframe['Time'].apply(lambda x: str(' ')+x)\n",
    "# dataframe['Date_Time'] = pd.to_datetime(dataframe['Date_Time'])\n",
    "# dataframe.drop(columns=['Date','Time'], inplace=True)\n",
    "\n",
    "\n",
    "# cols_sel = ['Date_Time','CO(GT)','PT08.S1(CO)','NMHC(GT)','C6H6(GT)','PT08.S2(NMHC)','NOx(GT)','T','RH']\n",
    "\n",
    "# cols_sel = ['date', 'pollution','dewp','temp','press','wnd_spd','snow','rain']\n",
    "\n",
    "# dataframe = dataframe[cols_sel].copy(deep=True)\n",
    "\n",
    "# dataframe.replace(-200, np.nan, inplace=True)\n",
    "\n",
    "dataframe.head()"
   ],
   "metadata": {
    "id": "qdFygqaUeCn9"
   },
   "execution_count": null,
   "outputs": []
  },
  {
   "cell_type": "code",
   "source": [
    "def replace_null(dataframe: pd.DataFrame, method: str = \"ffill\") -> pd.DataFrame:\n",
    "    dataframe_ = dataframe.copy(deep=True)\n",
    "    if dataframe_.isna().sum().sum() == 0:\n",
    "        print(\"No Null Value Found\")\n",
    "        return dataframe_\n",
    "    dataframe_.fillna(method=method, inplace=True)\n",
    "    print(f\"replace_null: DF Shape {dataframe_.shape}\")\n",
    "    return dataframe_\n",
    "\n",
    "\n",
    "def create_index(dataframe: pd.DataFrame, col: str, format: str = None) -> pd.DataFrame:\n",
    "    dataframe_ = dataframe.copy(deep=True)\n",
    "    dataframe_[\"Index\"] = pd.to_datetime(dataframe[col], format=format)\n",
    "    dataframe_.set_index(keys=\"Index\", inplace=True)\n",
    "    print(f\"format_datetime: DF Shape {dataframe_.shape}\")\n",
    "    return dataframe_\n",
    "\n",
    "\n",
    "def resample_data(dataframe: pd.DataFrame, freq: str = \"D\") -> pd.DataFrame:\n",
    "    dataframe_ = dataframe.copy(deep=True)\n",
    "    dataframe_ = dataframe_.resample(freq).mean(numeric_only=True)\n",
    "    print(f\"resample_Data: DF Shape {dataframe_.shape}\")\n",
    "    return dataframe_\n",
    "\n",
    "\n",
    "def index_to_column(dataframe: pd.DataFrame, col: str = \"DateTime\") -> pd.DataFrame:\n",
    "    dataframe_ = dataframe.copy(deep=True)\n",
    "    dataframe_[col] = dataframe_.index\n",
    "    print(f\"resample_Data: DF Shape {dataframe_.shape}\")\n",
    "    return dataframe_\n",
    "\n",
    "\n",
    "dataframe_ = (\n",
    "    dataframe.pipe(create_index, \"DateTime\")\n",
    "    .pipe(resample_data, freq=\"H\")\n",
    "    .pipe(index_to_column, \"DateTime\")\n",
    ")\n",
    "\n",
    "\n",
    "print(dataframe_.shape)\n",
    "dataframe_.head()"
   ],
   "metadata": {
    "id": "KiZ5Ls-ivveH"
   },
   "execution_count": null,
   "outputs": []
  },
  {
   "cell_type": "code",
   "source": [
    "dataframe_.isna().sum()"
   ],
   "metadata": {
    "id": "EcApp9Vhxu2n"
   },
   "execution_count": null,
   "outputs": []
  },
  {
   "cell_type": "code",
   "source": [
    "global_fig_settings = {\n",
    "    # \"renderer\": \"notebook\",\n",
    "    \"renderer\": \"png\",\n",
    "    \"width\": 1500,\n",
    "    \"height\": 500,\n",
    "}\n",
    "\n",
    "exp_auto = TSForecastingExperiment()\n",
    "\n",
    "FH = 48\n",
    "metric = \"mase\"\n",
    "target = \"Zone 3  Power Consumption\"\n",
    "exp_auto.setup(\n",
    "    data=dataframe_,\n",
    "    target=target,\n",
    "    index=\"DateTime\",\n",
    "    engine={\"auto_arima\": \"statsforecast\"},\n",
    "    use_gpu=True,\n",
    "    fh=FH,\n",
    "    enforce_exogenous=True,\n",
    "    numeric_imputation_target=\"ffill\",\n",
    "    numeric_imputation_exogenous=\"ffill\",\n",
    "    fig_kwargs=global_fig_settings,\n",
    "    session_id=42,\n",
    ")"
   ],
   "metadata": {
    "id": "5vD0oR9YfvML"
   },
   "execution_count": null,
   "outputs": []
  },
  {
   "cell_type": "code",
   "source": [
    "exclude = [\"auto_arima\", \"arima\"]\n",
    "best = exp_auto.compare_models(sort=\"MAE\", turbo=True, exclude=exclude)"
   ],
   "metadata": {
    "id": "TShIivkogx5n"
   },
   "execution_count": null,
   "outputs": []
  },
  {
   "cell_type": "code",
   "source": [
    "best_tuned_model = exp_auto.tune_model(best)"
   ],
   "metadata": {
    "id": "oPNXNDeHP97q"
   },
   "execution_count": null,
   "outputs": []
  },
  {
   "cell_type": "code",
   "source": [
    "forcasted_values = exp_auto.plot_model(\n",
    "    best_tuned_model, plot=\"forecast\", data_kwargs={\"fh\": 36}, return_data=True\n",
    ")\n",
    "# print(forcasted_values)"
   ],
   "metadata": {
    "id": "oRHCl_0VoqCG"
   },
   "execution_count": null,
   "outputs": []
  },
  {
   "cell_type": "code",
   "source": [
    "# forcasted_values['original_data']\n",
    "# forcasted_values['overlay_data']\n",
    "\n",
    "len(forcasted_values[\"original_data\"]), len(forcasted_values[\"overlay_data\"])\n",
    "plotting.plot_series(\n",
    "    forcasted_values[\"original_data\"].tail(360),\n",
    "    forcasted_values[\"overlay_data\"],\n",
    "    labels=[\"Train\", \"Test\"],\n",
    ")"
   ],
   "metadata": {
    "id": "CxAZtUcRqu0a"
   },
   "execution_count": null,
   "outputs": []
  },
  {
   "cell_type": "code",
   "source": [
    "insample_forcasted_values = exp_auto.plot_model(\n",
    "    best_tuned_model, plot=\"insample\", data_kwargs={\"fh\": 36}, return_data=True\n",
    ")"
   ],
   "metadata": {
    "id": "MIyJXuTmpPY9"
   },
   "execution_count": null,
   "outputs": []
  },
  {
   "cell_type": "code",
   "source": [
    "final_best = exp_auto.finalize_model(best_tuned_model)"
   ],
   "metadata": {
    "id": "iVoJPpHb_fby"
   },
   "execution_count": null,
   "outputs": []
  },
  {
   "cell_type": "code",
   "source": [
    "final_best.predict()"
   ],
   "metadata": {
    "id": "TXeoZS9V_r1U"
   },
   "execution_count": null,
   "outputs": []
  },
  {
   "cell_type": "code",
   "source": [
    "!pwd"
   ],
   "metadata": {
    "id": "01ylDcMNh6y7"
   },
   "execution_count": null,
   "outputs": []
  }
 ]
}