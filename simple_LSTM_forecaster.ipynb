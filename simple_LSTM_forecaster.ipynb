{
 "cells": [
  {
   "cell_type": "markdown",
   "id": "b7e06648",
   "metadata": {},
   "source": [
    "### Imports"
   ]
  },
  {
   "cell_type": "code",
   "execution_count": 1,
   "id": "9f8269b4",
   "metadata": {},
   "outputs": [],
   "source": [
    "from typing import Optional, Tuple\n",
    "\n",
    "import pandas as pd\n",
    "import numpy as np\n",
    "\n",
    "from tensorflow.keras import Sequential\n",
    "from tensorflow.keras.layers import Dense, LSTM, Input"
   ]
  },
  {
   "cell_type": "markdown",
   "id": "1cbc26fc",
   "metadata": {},
   "source": [
    "### Data generation"
   ]
  },
  {
   "cell_type": "code",
   "execution_count": 2,
   "id": "43ff1a6e",
   "metadata": {},
   "outputs": [
    {
     "name": "stdout",
     "output_type": "stream",
     "text": [
      "Data shape (120, 3)\n"
     ]
    },
    {
     "data": {
      "text/html": [
       "<div>\n",
       "<style scoped>\n",
       "    .dataframe tbody tr th:only-of-type {\n",
       "        vertical-align: middle;\n",
       "    }\n",
       "\n",
       "    .dataframe tbody tr th {\n",
       "        vertical-align: top;\n",
       "    }\n",
       "\n",
       "    .dataframe thead th {\n",
       "        text-align: right;\n",
       "    }\n",
       "</style>\n",
       "<table border=\"1\" class=\"dataframe\">\n",
       "  <thead>\n",
       "    <tr style=\"text-align: right;\">\n",
       "      <th></th>\n",
       "      <th>v1</th>\n",
       "      <th>v2</th>\n",
       "      <th>t</th>\n",
       "    </tr>\n",
       "  </thead>\n",
       "  <tbody>\n",
       "    <tr>\n",
       "      <th>2023-01-01</th>\n",
       "      <td>1</td>\n",
       "      <td>1.1</td>\n",
       "      <td>1.01</td>\n",
       "    </tr>\n",
       "    <tr>\n",
       "      <th>2023-01-02</th>\n",
       "      <td>2</td>\n",
       "      <td>2.1</td>\n",
       "      <td>2.01</td>\n",
       "    </tr>\n",
       "    <tr>\n",
       "      <th>2023-01-03</th>\n",
       "      <td>3</td>\n",
       "      <td>3.1</td>\n",
       "      <td>3.01</td>\n",
       "    </tr>\n",
       "    <tr>\n",
       "      <th>2023-01-04</th>\n",
       "      <td>4</td>\n",
       "      <td>4.1</td>\n",
       "      <td>4.01</td>\n",
       "    </tr>\n",
       "    <tr>\n",
       "      <th>2023-01-05</th>\n",
       "      <td>5</td>\n",
       "      <td>5.1</td>\n",
       "      <td>5.01</td>\n",
       "    </tr>\n",
       "  </tbody>\n",
       "</table>\n",
       "</div>"
      ],
      "text/plain": [
       "            v1   v2     t\n",
       "2023-01-01   1  1.1  1.01\n",
       "2023-01-02   2  2.1  2.01\n",
       "2023-01-03   3  3.1  3.01\n",
       "2023-01-04   4  4.1  4.01\n",
       "2023-01-05   5  5.1  5.01"
      ]
     },
     "execution_count": 2,
     "metadata": {},
     "output_type": "execute_result"
    }
   ],
   "source": [
    "n_sample = 120\n",
    "data = pd.DataFrame(\n",
    "    columns=[\"v1\", \"v2\", \"t\"],\n",
    "    index=pd.date_range(start=\"2023-01-01\", freq=\"D\", periods=n_sample),\n",
    ")\n",
    "data[\"v1\"] = np.arange(1, n_sample + 1)\n",
    "data[\"v2\"] = data[\"v1\"] + 0.1\n",
    "data[\"t\"] = data[\"v1\"] + 0.01\n",
    "\n",
    "print(f\"Data shape {data.shape}\")\n",
    "\n",
    "data.head()"
   ]
  },
  {
   "cell_type": "markdown",
   "id": "3fc48dce",
   "metadata": {},
   "source": [
    "### Test Train Split"
   ]
  },
  {
   "cell_type": "code",
   "execution_count": 3,
   "id": "7aa64b60",
   "metadata": {},
   "outputs": [
    {
     "name": "stdout",
     "output_type": "stream",
     "text": [
      "train_x shape (100, 2), train_y shape (100, 1)\n",
      "test_x shape  (20, 2),  test_y  shape (20, 1)\n"
     ]
    }
   ],
   "source": [
    "train_data = data.head(100)\n",
    "test_data = data.tail(20)\n",
    "train_x, train_y = train_data[[\"v1\", \"v2\"]].copy(deep=True), train_data[[\"t\"]].copy(\n",
    "    deep=True\n",
    ")\n",
    "test_x, test_y = test_data[[\"v1\", \"v2\"]].copy(deep=True), test_data[[\"t\"]].copy(\n",
    "    deep=True\n",
    ")\n",
    "\n",
    "print(f\"train_x shape {train_x.shape}, train_y shape {train_y.shape}\")\n",
    "print(f\"test_x shape  {test_x.shape},  test_y  shape {test_y.shape}\")"
   ]
  },
  {
   "cell_type": "markdown",
   "id": "bae25d3d",
   "metadata": {},
   "source": [
    "### SIMPLE LSTM DENSE MODEL"
   ]
  },
  {
   "cell_type": "code",
   "execution_count": 4,
   "id": "dfe85826",
   "metadata": {},
   "outputs": [],
   "source": [
    "def lstm_model(shape: Tuple[int, int], n_unit: int = 64):\n",
    "    model = Sequential(\n",
    "        [\n",
    "            LSTM(units=n_unit, return_sequences=True, input_shape=shape, dropout=0.2),\n",
    "            LSTM(units=n_unit, return_sequences=True, dropout=0.2),\n",
    "            LSTM(units=n_unit, dropout=0.2),\n",
    "            Dense(units=1),\n",
    "        ],\n",
    "        name=\"LSTM_3_DENSE\",\n",
    "    )\n",
    "    model.compile(optimizer=\"adam\", loss=\"mse\", metrics=\"mae\")\n",
    "    return model"
   ]
  },
  {
   "cell_type": "markdown",
   "id": "893ff0fc",
   "metadata": {},
   "source": [
    "### Forecaster Wrapper"
   ]
  },
  {
   "cell_type": "code",
   "execution_count": 5,
   "id": "15fbf92a",
   "metadata": {},
   "outputs": [],
   "source": [
    "class LstmForecaster:\n",
    "    def __init__(self, window_len: int = 10, epoch: int = 25, batch_size: int = 64):\n",
    "        self.window_len = window_len\n",
    "        self.epoch = epoch\n",
    "        self.batch_size = batch_size\n",
    "        self.data_x_max, self.data_x_min = None, None\n",
    "        self.data_y_max, self.data_y_min = None, None\n",
    "        self.initial_state = None\n",
    "        self.forecaster = None\n",
    "\n",
    "    def minmax_scale_x(self, data_x: pd.DataFrame) -> pd.DataFrame:\n",
    "        return (data_x - self.data_x_min) / (self.data_x_max - self.data_x_min)\n",
    "\n",
    "    def minmax_scale_y(self, data_y: pd.Series) -> pd.Series:\n",
    "        return (data_y - self.data_y_min) / (self.data_y_max - self.data_y_min)\n",
    "\n",
    "    def inv_minmax_scale_y(self, data_y: pd.Series) -> pd.Series:\n",
    "        return data_y * (self.data_y_max - self.data_y_min) + self.data_y_min\n",
    "\n",
    "    def preprocess_data(\n",
    "        self, data_x: pd.DataFrame, data_y: pd.Series\n",
    "    ) -> Tuple[np.ndarray, np.ndarray]:\n",
    "        x_data, y_data = [], []\n",
    "        data_size = data_x.shape[0]\n",
    "        self.data_x_max, self.data_x_min = data_x.max(), data_x.min()\n",
    "        self.data_y_max, self.data_y_min = data_y.max().item(), data_y.min().item()\n",
    "        x_scaled = self.minmax_scale_x(data_x)\n",
    "        y_scaled = self.minmax_scale_y(data_y)\n",
    "        xy_scaled = pd.concat([x_scaled, y_scaled], axis=1)\n",
    "        self.initial_state = xy_scaled.tail(self.window_len).to_numpy()[np.newaxis, :]\n",
    "        for i in range(self.window_len, data_size):\n",
    "            x_data.append(xy_scaled.iloc[i - self.window_len : i, :])\n",
    "            y_data.append(y_scaled.iloc[i, :])\n",
    "        return np.array(x_data, dtype=np.float64), np.array(y_data, dtype=np.float64)\n",
    "\n",
    "    def fit(self, X: pd.DataFrame, y: pd.Series):\n",
    "        x_data, y_data = self.preprocess_data(X, y)\n",
    "        self.forecaster = lstm_model(x_data.shape[1:])\n",
    "\n",
    "        self.forecaster.fit(\n",
    "            x_data, y_data, epochs=self.epoch, batch_size=self.batch_size, shuffle=False\n",
    "        )\n",
    "        return self\n",
    "\n",
    "    def predict(self, forecast_horizon: int, X: pd.DataFrame) -> np.ndarray:\n",
    "        y_predict = []\n",
    "        x_scaled = self.minmax_scale_x(X)\n",
    "        model_input = self.initial_state\n",
    "        for i in range(forecast_horizon):\n",
    "            predict_t = self.forecaster.predict(model_input, verbose=0)\n",
    "            y_predict.append(predict_t.flatten().item())\n",
    "            xhog = x_scaled.iloc[i, :].to_numpy()\n",
    "            new_test = np.hstack([xhog, predict_t.flatten()])\n",
    "            model_input_2d = model_input.reshape(self.window_len, -1)\n",
    "            model_input_2d = np.vstack([model_input_2d, new_test])[-self.window_len :]\n",
    "            model_input = model_input_2d[np.newaxis, :]\n",
    "        y_original_scale = self.inv_minmax_scale_y(np.array(y_predict))\n",
    "        return y_original_scale"
   ]
  },
  {
   "cell_type": "markdown",
   "id": "26a315de",
   "metadata": {},
   "source": [
    "### Training And Forecasting"
   ]
  },
  {
   "cell_type": "code",
   "execution_count": 6,
   "id": "7fc2baa6",
   "metadata": {},
   "outputs": [
    {
     "name": "stdout",
     "output_type": "stream",
     "text": [
      "Epoch 1/25\n",
      "2/2 [==============================] - 3s 32ms/step - loss: 0.3329 - mae: 0.5275\n",
      "Epoch 2/25\n",
      "2/2 [==============================] - 0s 24ms/step - loss: 0.2202 - mae: 0.4254\n",
      "Epoch 3/25\n",
      "2/2 [==============================] - 0s 24ms/step - loss: 0.1107 - mae: 0.3001\n",
      "Epoch 4/25\n",
      "2/2 [==============================] - 0s 24ms/step - loss: 0.0240 - mae: 0.1301\n",
      "Epoch 5/25\n",
      "2/2 [==============================] - 0s 24ms/step - loss: 0.0182 - mae: 0.1034\n",
      "Epoch 6/25\n",
      "2/2 [==============================] - 0s 24ms/step - loss: 0.0498 - mae: 0.2078\n",
      "Epoch 7/25\n",
      "2/2 [==============================] - 0s 24ms/step - loss: 0.0318 - mae: 0.1670\n",
      "Epoch 8/25\n",
      "2/2 [==============================] - 0s 15ms/step - loss: 0.0092 - mae: 0.0856\n",
      "Epoch 9/25\n",
      "2/2 [==============================] - 0s 32ms/step - loss: 0.0114 - mae: 0.0776\n",
      "Epoch 10/25\n",
      "2/2 [==============================] - 0s 16ms/step - loss: 0.0175 - mae: 0.0981\n",
      "Epoch 11/25\n",
      "2/2 [==============================] - 0s 24ms/step - loss: 0.0167 - mae: 0.1027\n",
      "Epoch 12/25\n",
      "2/2 [==============================] - 0s 16ms/step - loss: 0.0104 - mae: 0.0810\n",
      "Epoch 13/25\n",
      "2/2 [==============================] - 0s 24ms/step - loss: 0.0058 - mae: 0.0602\n",
      "Epoch 14/25\n",
      "2/2 [==============================] - 0s 29ms/step - loss: 0.0055 - mae: 0.0647\n",
      "Epoch 15/25\n",
      "2/2 [==============================] - 0s 26ms/step - loss: 0.0092 - mae: 0.0862\n",
      "Epoch 16/25\n",
      "2/2 [==============================] - 0s 32ms/step - loss: 0.0116 - mae: 0.0953\n",
      "Epoch 17/25\n",
      "2/2 [==============================] - 0s 28ms/step - loss: 0.0148 - mae: 0.1101\n",
      "Epoch 18/25\n",
      "2/2 [==============================] - 0s 24ms/step - loss: 0.0086 - mae: 0.0820\n",
      "Epoch 19/25\n",
      "2/2 [==============================] - 0s 22ms/step - loss: 0.0069 - mae: 0.0697\n",
      "Epoch 20/25\n",
      "2/2 [==============================] - 0s 32ms/step - loss: 0.0056 - mae: 0.0598\n",
      "Epoch 21/25\n",
      "2/2 [==============================] - 0s 24ms/step - loss: 0.0066 - mae: 0.0628\n",
      "Epoch 22/25\n",
      "2/2 [==============================] - 0s 24ms/step - loss: 0.0045 - mae: 0.0552\n",
      "Epoch 23/25\n",
      "2/2 [==============================] - 0s 16ms/step - loss: 0.0043 - mae: 0.0542\n",
      "Epoch 24/25\n",
      "2/2 [==============================] - 0s 16ms/step - loss: 0.0048 - mae: 0.0566\n",
      "Epoch 25/25\n",
      "2/2 [==============================] - 0s 40ms/step - loss: 0.0049 - mae: 0.0587\n"
     ]
    }
   ],
   "source": [
    "fcaster = LstmForecaster(window_len=10, epoch=25)\n",
    "fcaster.fit(train_x, train_y)\n",
    "\n",
    "y_pred = fcaster.predict(20, test_x)"
   ]
  },
  {
   "cell_type": "markdown",
   "id": "e9da4bcf",
   "metadata": {},
   "source": [
    "### 20 Point forecasted results"
   ]
  },
  {
   "cell_type": "code",
   "execution_count": 7,
   "id": "9a715228",
   "metadata": {},
   "outputs": [
    {
     "data": {
      "text/plain": [
       "array([ 99.90149499, 100.64632512, 101.37827958, 102.09581233,\n",
       "       102.79800285, 103.48444987, 104.15504719, 104.80991281,\n",
       "       105.44929458, 106.07353474, 106.68299914, 107.31264449,\n",
       "       107.93454791, 108.54883922, 109.15588428, 109.75597812,\n",
       "       110.3495102 , 110.93685819, 111.51838792, 112.09445346])"
      ]
     },
     "execution_count": 7,
     "metadata": {},
     "output_type": "execute_result"
    }
   ],
   "source": [
    "y_pred"
   ]
  },
  {
   "cell_type": "code",
   "execution_count": 8,
   "id": "a07c6a25",
   "metadata": {},
   "outputs": [
    {
     "data": {
      "text/plain": [
       "array([[101.        , 101.1       ,  99.90149499],\n",
       "       [102.        , 102.1       , 100.64632512],\n",
       "       [103.        , 103.1       , 101.37827958],\n",
       "       [104.        , 104.1       , 102.09581233],\n",
       "       [105.        , 105.1       , 102.79800285],\n",
       "       [106.        , 106.1       , 103.48444987],\n",
       "       [107.        , 107.1       , 104.15504719],\n",
       "       [108.        , 108.1       , 104.80991281],\n",
       "       [109.        , 109.1       , 105.44929458],\n",
       "       [110.        , 110.1       , 106.07353474],\n",
       "       [111.        , 111.1       , 106.68299914],\n",
       "       [112.        , 112.1       , 107.31264449],\n",
       "       [113.        , 113.1       , 107.93454791],\n",
       "       [114.        , 114.1       , 108.54883922],\n",
       "       [115.        , 115.1       , 109.15588428],\n",
       "       [116.        , 116.1       , 109.75597812],\n",
       "       [117.        , 117.1       , 110.3495102 ],\n",
       "       [118.        , 118.1       , 110.93685819],\n",
       "       [119.        , 119.1       , 111.51838792],\n",
       "       [120.        , 120.1       , 112.09445346]])"
      ]
     },
     "execution_count": 8,
     "metadata": {},
     "output_type": "execute_result"
    }
   ],
   "source": [
    "np.hstack([test_x.to_numpy(), y_pred.reshape(-1, 1)])"
   ]
  },
  {
   "cell_type": "code",
   "execution_count": null,
   "id": "91b53e98",
   "metadata": {},
   "outputs": [],
   "source": []
  }
 ],
 "metadata": {
  "kernelspec": {
   "display_name": "Python 3 (ipykernel)",
   "language": "python",
   "name": "python3"
  },
  "language_info": {
   "codemirror_mode": {
    "name": "ipython",
    "version": 3
   },
   "file_extension": ".py",
   "mimetype": "text/x-python",
   "name": "python",
   "nbconvert_exporter": "python",
   "pygments_lexer": "ipython3",
   "version": "3.11.3"
  }
 },
 "nbformat": 4,
 "nbformat_minor": 5
}
