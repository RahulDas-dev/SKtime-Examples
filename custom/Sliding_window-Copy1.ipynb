{
 "cells": [
  {
   "cell_type": "code",
   "execution_count": 1,
   "id": "f130f1b6",
   "metadata": {},
   "outputs": [],
   "source": [
    "import pandas as pd\n",
    "import numpy as np\n",
    "from numpy.lib.stride_tricks import sliding_window_view"
   ]
  },
  {
   "cell_type": "code",
   "execution_count": 2,
   "id": "8cad8aa7",
   "metadata": {},
   "outputs": [],
   "source": [
    "np.set_printoptions(linewidth=np.inf)"
   ]
  },
  {
   "cell_type": "code",
   "execution_count": 3,
   "id": "bb9f0873",
   "metadata": {},
   "outputs": [
    {
     "name": "stdout",
     "output_type": "stream",
     "text": [
      "(20, 3)\n",
      "            v1    v2      t\n",
      "2023-01-16  16  16.1  16.01\n",
      "2023-01-17  17  17.1  17.01\n",
      "2023-01-18  18  18.1  18.01\n",
      "2023-01-19  19  19.1  19.01\n",
      "2023-01-20  20  20.1  20.01\n",
      "\n",
      "            v1   v2     t\n",
      "2023-01-01   1  1.1  1.01\n",
      "2023-01-02   2  2.1  2.01\n",
      "2023-01-03   3  3.1  3.01\n",
      "2023-01-04   4  4.1  4.01\n",
      "2023-01-05   5  5.1  5.01\n"
     ]
    }
   ],
   "source": [
    "nsamples = 20\n",
    "data = pd.DataFrame(\n",
    "    columns=[\"v1\", \"v2\", \"t\"],\n",
    "    index=pd.date_range(start=\"2023-01-01\", freq=\"D\", periods=nsamples),\n",
    ")\n",
    "\n",
    "data[\"v1\"] = np.arange(1, nsamples + 1)\n",
    "data[\"v2\"] = data[\"v1\"] + 0.1\n",
    "data[\"t\"] = data[\"v1\"] + 0.01\n",
    "\n",
    "y_d = data[[\"t\"]].copy(deep=True)\n",
    "x_d = data[[\"v1\", \"v2\"]].copy(deep=True)\n",
    "\n",
    "print(data.shape)\n",
    "\n",
    "print(data.tail(), end=\"\\n\\n\")\n",
    "\n",
    "print(data.head())"
   ]
  },
  {
   "cell_type": "code",
   "execution_count": 20,
   "id": "04947b72",
   "metadata": {},
   "outputs": [
    {
     "name": "stdout",
     "output_type": "stream",
     "text": [
      "(20,)\n",
      "(24,)\n"
     ]
    },
    {
     "data": {
      "text/plain": [
       "array([  nan,   nan,   nan,   nan,  1.01,  2.01,  3.01,  4.01,  5.01,  6.01,  7.01,  8.01,  9.01, 10.01, 11.01, 12.01, 13.01, 14.01, 15.01, 16.01, 17.01, 18.01, 19.01, 20.01])"
      ]
     },
     "execution_count": 20,
     "metadata": {},
     "output_type": "execute_result"
    }
   ],
   "source": [
    "data_np = data[\"t\"].to_numpy()\n",
    "print(data_np.shape)\n",
    "data_np = np.hstack([np.array(4 * [None], dtype=float), data_np])\n",
    "print(data_np.shape)\n",
    "data_np"
   ]
  },
  {
   "cell_type": "code",
   "execution_count": 30,
   "id": "de9e909f",
   "metadata": {},
   "outputs": [
    {
     "name": "stdout",
     "output_type": "stream",
     "text": [
      "(20, 4)\n"
     ]
    },
    {
     "data": {
      "text/plain": [
       "array([[  nan,   nan,   nan,   nan],\n",
       "       [  nan,   nan,   nan,  1.01],\n",
       "       [  nan,   nan,  1.01,  2.01],\n",
       "       [  nan,  1.01,  2.01,  3.01],\n",
       "       [ 1.01,  2.01,  3.01,  4.01],\n",
       "       [ 2.01,  3.01,  4.01,  5.01],\n",
       "       [ 3.01,  4.01,  5.01,  6.01],\n",
       "       [ 4.01,  5.01,  6.01,  7.01],\n",
       "       [ 5.01,  6.01,  7.01,  8.01],\n",
       "       [ 6.01,  7.01,  8.01,  9.01],\n",
       "       [ 7.01,  8.01,  9.01, 10.01],\n",
       "       [ 8.01,  9.01, 10.01, 11.01],\n",
       "       [ 9.01, 10.01, 11.01, 12.01],\n",
       "       [10.01, 11.01, 12.01, 13.01],\n",
       "       [11.01, 12.01, 13.01, 14.01],\n",
       "       [12.01, 13.01, 14.01, 15.01],\n",
       "       [13.01, 14.01, 15.01, 16.01],\n",
       "       [14.01, 15.01, 16.01, 17.01],\n",
       "       [15.01, 16.01, 17.01, 18.01],\n",
       "       [16.01, 17.01, 18.01, 19.01]])"
      ]
     },
     "execution_count": 30,
     "metadata": {},
     "output_type": "execute_result"
    }
   ],
   "source": [
    "# window_shape in  sliding_window_view =  window_shape * number of features\n",
    "data_np = data[\"t\"].to_numpy()\n",
    "data_np = np.hstack([np.array(4 * [None], dtype=float), data_np])\n",
    "s_window = sliding_window_view(data_np.flatten(), window_shape=4)[:-1]\n",
    "print(s_window.shape)\n",
    "s_window"
   ]
  },
  {
   "cell_type": "code",
   "execution_count": 31,
   "id": "8fe6c2e2",
   "metadata": {},
   "outputs": [
    {
     "name": "stdout",
     "output_type": "stream",
     "text": [
      "(20, 2)\n"
     ]
    },
    {
     "data": {
      "text/plain": [
       "array([[ 1. ,  1.1],\n",
       "       [ 2. ,  2.1],\n",
       "       [ 3. ,  3.1],\n",
       "       [ 4. ,  4.1],\n",
       "       [ 5. ,  5.1],\n",
       "       [ 6. ,  6.1],\n",
       "       [ 7. ,  7.1],\n",
       "       [ 8. ,  8.1],\n",
       "       [ 9. ,  9.1],\n",
       "       [10. , 10.1],\n",
       "       [11. , 11.1],\n",
       "       [12. , 12.1],\n",
       "       [13. , 13.1],\n",
       "       [14. , 14.1],\n",
       "       [15. , 15.1],\n",
       "       [16. , 16.1],\n",
       "       [17. , 17.1],\n",
       "       [18. , 18.1],\n",
       "       [19. , 19.1],\n",
       "       [20. , 20.1]])"
      ]
     },
     "execution_count": 31,
     "metadata": {},
     "output_type": "execute_result"
    }
   ],
   "source": [
    "exo_np = data[[\"v1\", \"v2\"]].to_numpy()\n",
    "print(exo_np.shape)\n",
    "exo_np"
   ]
  },
  {
   "cell_type": "code",
   "execution_count": 32,
   "id": "8cae342a",
   "metadata": {},
   "outputs": [
    {
     "data": {
      "text/plain": [
       "array([[ 1.  ,  1.1 ,   nan,   nan,   nan,   nan],\n",
       "       [ 2.  ,  2.1 ,   nan,   nan,   nan,  1.01],\n",
       "       [ 3.  ,  3.1 ,   nan,   nan,  1.01,  2.01],\n",
       "       [ 4.  ,  4.1 ,   nan,  1.01,  2.01,  3.01],\n",
       "       [ 5.  ,  5.1 ,  1.01,  2.01,  3.01,  4.01],\n",
       "       [ 6.  ,  6.1 ,  2.01,  3.01,  4.01,  5.01],\n",
       "       [ 7.  ,  7.1 ,  3.01,  4.01,  5.01,  6.01],\n",
       "       [ 8.  ,  8.1 ,  4.01,  5.01,  6.01,  7.01],\n",
       "       [ 9.  ,  9.1 ,  5.01,  6.01,  7.01,  8.01],\n",
       "       [10.  , 10.1 ,  6.01,  7.01,  8.01,  9.01],\n",
       "       [11.  , 11.1 ,  7.01,  8.01,  9.01, 10.01],\n",
       "       [12.  , 12.1 ,  8.01,  9.01, 10.01, 11.01],\n",
       "       [13.  , 13.1 ,  9.01, 10.01, 11.01, 12.01],\n",
       "       [14.  , 14.1 , 10.01, 11.01, 12.01, 13.01],\n",
       "       [15.  , 15.1 , 11.01, 12.01, 13.01, 14.01],\n",
       "       [16.  , 16.1 , 12.01, 13.01, 14.01, 15.01],\n",
       "       [17.  , 17.1 , 13.01, 14.01, 15.01, 16.01],\n",
       "       [18.  , 18.1 , 14.01, 15.01, 16.01, 17.01],\n",
       "       [19.  , 19.1 , 15.01, 16.01, 17.01, 18.01],\n",
       "       [20.  , 20.1 , 16.01, 17.01, 18.01, 19.01]])"
      ]
     },
     "execution_count": 32,
     "metadata": {},
     "output_type": "execute_result"
    }
   ],
   "source": [
    "np.hstack([exo_np, s_window])"
   ]
  },
  {
   "cell_type": "code",
   "execution_count": 23,
   "id": "1ff56b9f",
   "metadata": {},
   "outputs": [
    {
     "data": {
      "text/plain": [
       "array([[ 81.  ,  81.1 ,  81.01,  82.  ,  82.1 ,  82.01,  83.  ,  83.1 ,  83.01,  84.  ,  84.1 ,  84.01],\n",
       "       [ 82.  ,  82.1 ,  82.01,  83.  ,  83.1 ,  83.01,  84.  ,  84.1 ,  84.01,  85.  ,  85.1 ,  85.01],\n",
       "       [ 83.  ,  83.1 ,  83.01,  84.  ,  84.1 ,  84.01,  85.  ,  85.1 ,  85.01,  86.  ,  86.1 ,  86.01],\n",
       "       [ 84.  ,  84.1 ,  84.01,  85.  ,  85.1 ,  85.01,  86.  ,  86.1 ,  86.01,  87.  ,  87.1 ,  87.01],\n",
       "       [ 85.  ,  85.1 ,  85.01,  86.  ,  86.1 ,  86.01,  87.  ,  87.1 ,  87.01,  88.  ,  88.1 ,  88.01],\n",
       "       [ 86.  ,  86.1 ,  86.01,  87.  ,  87.1 ,  87.01,  88.  ,  88.1 ,  88.01,  89.  ,  89.1 ,  89.01],\n",
       "       [ 87.  ,  87.1 ,  87.01,  88.  ,  88.1 ,  88.01,  89.  ,  89.1 ,  89.01,  90.  ,  90.1 ,  90.01],\n",
       "       [ 88.  ,  88.1 ,  88.01,  89.  ,  89.1 ,  89.01,  90.  ,  90.1 ,  90.01,  91.  ,  91.1 ,  91.01],\n",
       "       [ 89.  ,  89.1 ,  89.01,  90.  ,  90.1 ,  90.01,  91.  ,  91.1 ,  91.01,  92.  ,  92.1 ,  92.01],\n",
       "       [ 90.  ,  90.1 ,  90.01,  91.  ,  91.1 ,  91.01,  92.  ,  92.1 ,  92.01,  93.  ,  93.1 ,  93.01],\n",
       "       [ 91.  ,  91.1 ,  91.01,  92.  ,  92.1 ,  92.01,  93.  ,  93.1 ,  93.01,  94.  ,  94.1 ,  94.01],\n",
       "       [ 92.  ,  92.1 ,  92.01,  93.  ,  93.1 ,  93.01,  94.  ,  94.1 ,  94.01,  95.  ,  95.1 ,  95.01],\n",
       "       [ 93.  ,  93.1 ,  93.01,  94.  ,  94.1 ,  94.01,  95.  ,  95.1 ,  95.01,  96.  ,  96.1 ,  96.01],\n",
       "       [ 94.  ,  94.1 ,  94.01,  95.  ,  95.1 ,  95.01,  96.  ,  96.1 ,  96.01,  97.  ,  97.1 ,  97.01],\n",
       "       [ 95.  ,  95.1 ,  95.01,  96.  ,  96.1 ,  96.01,  97.  ,  97.1 ,  97.01,  98.  ,  98.1 ,  98.01],\n",
       "       [ 96.  ,  96.1 ,  96.01,  97.  ,  97.1 ,  97.01,  98.  ,  98.1 ,  98.01,  99.  ,  99.1 ,  99.01],\n",
       "       [ 97.  ,  97.1 ,  97.01,  98.  ,  98.1 ,  98.01,  99.  ,  99.1 ,  99.01, 100.  , 100.1 , 100.01]])"
      ]
     },
     "execution_count": 23,
     "metadata": {},
     "output_type": "execute_result"
    }
   ],
   "source": [
    "sliding_window_view(test_data_np.flatten(), window_shape=4 * 3)[::3]"
   ]
  },
  {
   "cell_type": "code",
   "execution_count": null,
   "id": "41ac9705",
   "metadata": {},
   "outputs": [],
   "source": [
    "def reduce_window(\n",
    "    self, y_train: pd.DataFrame, x_hog: pd.DataFrame\n",
    ") -> Tuple[np.ndarray, np.ndarray]:\n",
    "    y_train_np = y_train.to_numpy().flatten()\n",
    "    y_lags = np.hstack([np.array(self.window_len * [None], dtype=float), y_train_np])\n",
    "    y_lags = sliding_window_view(y_lags.flatten(), window_shape=self.window_len)\n",
    "    y_lags_train = y_lags[:-1]\n",
    "    if x_hog is not None:\n",
    "        x_hog_np = x_hog.to_numpy()\n",
    "        x_data = np.hstack([x_hog_np, y_lags_train])\n",
    "    else:\n",
    "        x_data = y_lags_train\n",
    "    return x_data, y_train_np, y_lags[-1:]"
   ]
  },
  {
   "cell_type": "code",
   "execution_count": null,
   "id": "124dd2a1",
   "metadata": {},
   "outputs": [],
   "source": []
  }
 ],
 "metadata": {
  "kernelspec": {
   "display_name": "Python 3 (ipykernel)",
   "language": "python",
   "name": "python3"
  },
  "language_info": {
   "codemirror_mode": {
    "name": "ipython",
    "version": 3
   },
   "file_extension": ".py",
   "mimetype": "text/x-python",
   "name": "python",
   "nbconvert_exporter": "python",
   "pygments_lexer": "ipython3",
   "version": "3.11.3"
  }
 },
 "nbformat": 4,
 "nbformat_minor": 5
}
